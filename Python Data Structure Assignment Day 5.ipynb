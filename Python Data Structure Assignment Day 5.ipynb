{
 "cells": [
  {
   "cell_type": "markdown",
   "metadata": {
    "id": "jGxqF4aIjNSq"
   },
   "source": [
    "<a id='1'></a><center> <h3 style=\"background-color:orange; color:white\" ><br>Python Data Structures<br></h3>"
   ]
  },
  {
   "cell_type": "markdown",
   "metadata": {},
   "source": [
    "# `Types of Data Structures:`\n",
    "* `List` | `Tuple`\n",
    "* `Set` | `Dictionary`"
   ]
  },
  {
   "cell_type": "markdown",
   "metadata": {},
   "source": [
    "|Data Structures type|Mutable|Comments|Indexing|Ordered|Duplicacy|\n",
    "|----|----|----|----|----|----|\n",
    "tuple ()|immutable|immutable version of list| possible|yes |allowed |\n",
    "list []|mutable|-|possible |yes | allowed |\n",
    "set {}|mutable| -|not |no |not |\n",
    "dict {key:value}|mutable|-|possible |no |not  |"
   ]
  },
  {
   "cell_type": "markdown",
   "metadata": {},
   "source": [
    "💫 `immutable` => `can't be changed` <br>\n",
    "💫 `mutable` => `can be changed`"
   ]
  },
  {
   "cell_type": "markdown",
   "metadata": {
    "id": "Tyavi31ZjNSw"
   },
   "source": [
    "## Lists\n",
    "\n"
   ]
  },
  {
   "cell_type": "markdown",
   "metadata": {
    "id": "tkDQdRdUjNSy"
   },
   "source": [
    "### Create an empty list with the name ‘a’, print the value of a and type(a).\n"
   ]
  },
  {
   "cell_type": "code",
   "execution_count": 2,
   "metadata": {
    "id": "a6i4yNGvjNSz"
   },
   "outputs": [
    {
     "name": "stdout",
     "output_type": "stream",
     "text": [
      "VALUE OF :  []\n",
      "TYPE OF :  <class 'list'>\n"
     ]
    }
   ],
   "source": [
    "# create empty list, name it 'a'\n",
    "a=[]\n",
    "print(\"VALUE OF : \",a)\n",
    "print(\"TYPE OF : \",type(a))"
   ]
  },
  {
   "cell_type": "code",
   "execution_count": 3,
   "metadata": {
    "id": "M8FMNQEgjNS0",
    "outputId": "e614518d-cd99-4602-c082-7fcc1f9a0e3a"
   },
   "outputs": [
    {
     "name": "stdout",
     "output_type": "stream",
     "text": [
      "VALUE OF a :  []\n"
     ]
    }
   ],
   "source": [
    "# print the value of a\n",
    "\n",
    "print(\"VALUE OF a : \",a)"
   ]
  },
  {
   "cell_type": "code",
   "execution_count": 4,
   "metadata": {
    "id": "Jfc9sg1vjNS1",
    "outputId": "462464e7-25c1-4a23-80cb-f8c6cf93fb18"
   },
   "outputs": [
    {
     "name": "stdout",
     "output_type": "stream",
     "text": [
      "TYPE OF a :  <class 'list'>\n"
     ]
    }
   ],
   "source": [
    "# print the type of a\n",
    "print(\"TYPE OF a : \",type(a))"
   ]
  },
  {
   "cell_type": "markdown",
   "metadata": {
    "id": "UNpN9_w4jNS1"
   },
   "source": [
    "### Create a list , languages = ['R','Python', 'SAS', 'Scala', 42], "
   ]
  },
  {
   "cell_type": "code",
   "execution_count": 5,
   "metadata": {
    "id": "x-TG-vc5jNS2"
   },
   "outputs": [],
   "source": [
    "l=['R','PYTHON','SAS','SCALA','42']"
   ]
  },
  {
   "cell_type": "markdown",
   "metadata": {
    "id": "JDSIK8TbjNS3"
   },
   "source": [
    "Print the number of elements in the list"
   ]
  },
  {
   "cell_type": "code",
   "execution_count": 6,
   "metadata": {
    "id": "C4lBMaM8jNS3",
    "outputId": "8f553c2e-3d4f-4a3c-ddb3-49b32c4d6fce"
   },
   "outputs": [
    {
     "name": "stdout",
     "output_type": "stream",
     "text": [
      "Number of elements in the list are :  5\n"
     ]
    }
   ],
   "source": [
    "l=['R','PYTHON','SAS','SCALA','42']\n",
    "print(\"Number of elements in the list are : \",len(l))"
   ]
  },
  {
   "cell_type": "markdown",
   "metadata": {
    "id": "EyzO_pcnjNS3"
   },
   "source": [
    "Using for loop iterate and print all the elements in the list"
   ]
  },
  {
   "cell_type": "code",
   "execution_count": 7,
   "metadata": {
    "id": "TyM54ydsjNS4",
    "outputId": "a83aecf6-2a59-4d56-ee29-d0c3f0711bc4"
   },
   "outputs": [
    {
     "name": "stdout",
     "output_type": "stream",
     "text": [
      "R\n",
      "PYTHON\n",
      "SAS\n",
      "SCALA\n",
      "42\n"
     ]
    }
   ],
   "source": [
    "l=['R','PYTHON','SAS','SCALA','42']\n",
    "\n",
    "for x in l :\n",
    "    print(x)"
   ]
  },
  {
   "cell_type": "markdown",
   "metadata": {
    "id": "eC1fqz9LjNS4"
   },
   "source": [
    "Select the second item, 'Python' and store it in a new variable named 'temp'"
   ]
  },
  {
   "cell_type": "code",
   "execution_count": 8,
   "metadata": {
    "id": "KY0KhRlOjNS4"
   },
   "outputs": [
    {
     "name": "stdout",
     "output_type": "stream",
     "text": [
      "Temporary variable temp: PYTHON\n"
     ]
    }
   ],
   "source": [
    "l=['R','PYTHON','SAS','SCALA','42']\n",
    "temp = None  # Temporary variable\n",
    "\n",
    "for x in range(len(l)):  \n",
    "    if x == 1:  \n",
    "        temp = l[x]  \n",
    "        break  \n",
    "\n",
    "print(\"Temporary variable temp:\", temp)\n",
    "\n"
   ]
  },
  {
   "cell_type": "markdown",
   "metadata": {
    "id": "breORMa_jNS4"
   },
   "source": [
    "Print the value of temp and type(temp)"
   ]
  },
  {
   "cell_type": "code",
   "execution_count": 9,
   "metadata": {
    "id": "MbvX2aIgjNS5",
    "outputId": "f8ec4c46-26d8-4822-c3c7-b18a6cc7f149"
   },
   "outputs": [
    {
     "name": "stdout",
     "output_type": "stream",
     "text": [
      "Temporary variable temp: PYTHON\n",
      "TYE OF Temporary variable temp: <class 'str'>\n"
     ]
    }
   ],
   "source": [
    "print(\"Temporary variable temp:\", temp)\n",
    "print(\"TYE OF Temporary variable temp:\", type(temp))\n",
    "\n"
   ]
  },
  {
   "cell_type": "markdown",
   "metadata": {
    "id": "I4MrKlAUjNS5"
   },
   "source": [
    "Append the element 'Java' in the list"
   ]
  },
  {
   "cell_type": "code",
   "execution_count": 10,
   "metadata": {
    "id": "rOtqZY6PjNS6"
   },
   "outputs": [
    {
     "name": "stdout",
     "output_type": "stream",
     "text": [
      "LIST AFTER APPEND :  ['R', 'PYTHON', 'SAS', 'SCALA', '42', 'JAVA']\n"
     ]
    }
   ],
   "source": [
    "l.append('JAVA')\n",
    "print('LIST AFTER APPEND : ',l)\n"
   ]
  },
  {
   "cell_type": "markdown",
   "metadata": {
    "id": "ksEn8qvFjNS6"
   },
   "source": [
    "Remove the element 42 from the list and print the list"
   ]
  },
  {
   "cell_type": "code",
   "execution_count": 11,
   "metadata": {
    "id": "Lxuzfc1bjNS6",
    "outputId": "71e5abaf-0020-44d5-af96-9b6f832ce001"
   },
   "outputs": [
    {
     "name": "stdout",
     "output_type": "stream",
     "text": [
      "LIST AFTER REMOVING 42 :  ['R', 'PYTHON', 'SAS', 'SCALA', 'JAVA']\n"
     ]
    }
   ],
   "source": [
    "l.remove('42')\n",
    "print('LIST AFTER REMOVING 42 : ',l)\n",
    "\n"
   ]
  },
  {
   "cell_type": "markdown",
   "metadata": {
    "id": "19MjI0w6jNS6"
   },
   "source": [
    "### Create a list, colors = [‘Red’, ‘Blue’, ‘White’]"
   ]
  },
  {
   "cell_type": "code",
   "execution_count": 12,
   "metadata": {
    "id": "Z1lMzdbWjNS7"
   },
   "outputs": [],
   "source": [
    "colors=['RED','BLUE','WHITE']"
   ]
  },
  {
   "cell_type": "markdown",
   "metadata": {
    "id": "VAqLj5R3jNS7"
   },
   "source": [
    "Append the element 'Black' to colors"
   ]
  },
  {
   "cell_type": "code",
   "execution_count": 13,
   "metadata": {
    "id": "gvb5iC7ljNS7"
   },
   "outputs": [
    {
     "name": "stdout",
     "output_type": "stream",
     "text": [
      "LIST COLORS AFTER APPENDING BLACK :  ['RED', 'BLUE', 'WHITE', 'BLACK']\n"
     ]
    }
   ],
   "source": [
    "\n",
    "colors.append('BLACK')\n",
    "print('LIST COLORS AFTER APPENDING BLACK : ',colors)\n"
   ]
  },
  {
   "cell_type": "markdown",
   "metadata": {
    "id": "MFWIzVcvjNS7"
   },
   "source": [
    "Append the color 'Orange' to second position (index=1) and print the list"
   ]
  },
  {
   "cell_type": "code",
   "execution_count": 14,
   "metadata": {
    "id": "Fb6YZDSNjNS8"
   },
   "outputs": [
    {
     "name": "stdout",
     "output_type": "stream",
     "text": [
      "LIST COLORS AFTER APPENDING ORANGE AT SECOND POSITION WITH INDEX 1 :  ['RED', 'ORANGE', 'BLUE', 'WHITE', 'BLACK']\n"
     ]
    }
   ],
   "source": [
    "colors.insert(1,'ORANGE')\n",
    "\n",
    "print('LIST COLORS AFTER APPENDING ORANGE AT SECOND POSITION WITH INDEX 1 : ',colors)\n",
    "\n"
   ]
  },
  {
   "cell_type": "markdown",
   "metadata": {
    "id": "8DWB76AOjNS8"
   },
   "source": [
    "Print the list\n"
   ]
  },
  {
   "cell_type": "code",
   "execution_count": 15,
   "metadata": {
    "id": "0ldkGCozjNS8",
    "outputId": "0a5cb8e4-f656-4122-b50a-e7716ef09086"
   },
   "outputs": [
    {
     "name": "stdout",
     "output_type": "stream",
     "text": [
      "THE LIST :  ['RED', 'ORANGE', 'BLUE', 'WHITE', 'BLACK']\n"
     ]
    }
   ],
   "source": [
    "print(\"THE LIST : \",colors)"
   ]
  },
  {
   "cell_type": "markdown",
   "metadata": {
    "id": "WfFfxvLKjNS8"
   },
   "source": [
    "Create another list, colors2 = [‘Grey’, ‘Sky Blue’]"
   ]
  },
  {
   "cell_type": "code",
   "execution_count": 16,
   "metadata": {
    "id": "onZEiwdUjNS8"
   },
   "outputs": [
    {
     "name": "stdout",
     "output_type": "stream",
     "text": [
      "NEW LIST :  ['GREY', 'SKYBLUE']\n"
     ]
    }
   ],
   "source": [
    "COLORS2=['GREY','SKYBLUE']\n",
    "print(\"NEW LIST : \",COLORS2)"
   ]
  },
  {
   "cell_type": "markdown",
   "metadata": {
    "id": "MrNQk6uKjNS8"
   },
   "source": [
    "Add the elements of colors2 to colors using extend function in the list"
   ]
  },
  {
   "cell_type": "code",
   "execution_count": 17,
   "metadata": {
    "id": "Hr1Eu88OjNS9"
   },
   "outputs": [
    {
     "name": "stdout",
     "output_type": "stream",
     "text": [
      "NEW LIST :  ['GREY', 'SKYBLUE']\n",
      "BOTH THE LISTS TOGETHER :  ['RED', 'ORANGE', 'BLUE', 'WHITE', 'BLACK', 'GREY', 'SKYBLUE']\n"
     ]
    }
   ],
   "source": [
    "COLORS2=['GREY','SKYBLUE']\n",
    "print(\"NEW LIST : \",COLORS2)\n",
    "colors.extend(COLORS2)\n",
    "print('BOTH THE LISTS TOGETHER : ',colors)"
   ]
  },
  {
   "cell_type": "markdown",
   "metadata": {
    "id": "u0KDeU20jNS9"
   },
   "source": [
    "Print len of colors and its elements"
   ]
  },
  {
   "cell_type": "code",
   "execution_count": 18,
   "metadata": {
    "id": "bnBmsCg2jNS9",
    "outputId": "f126519a-bafd-4438-fe21-af7586b5740d"
   },
   "outputs": [
    {
     "name": "stdout",
     "output_type": "stream",
     "text": [
      "LENGTH OF COLORS ELEMENTS :  7\n"
     ]
    }
   ],
   "source": [
    "R=len(colors)\n",
    "print('LENGTH OF COLORS ELEMENTS : ',R)\n",
    "\n"
   ]
  },
  {
   "cell_type": "markdown",
   "metadata": {
    "id": "vJ7YqokSjNS9"
   },
   "source": [
    "Sort the list and print it."
   ]
  },
  {
   "cell_type": "code",
   "execution_count": 19,
   "metadata": {
    "id": "X14C-1PtjNS9",
    "outputId": "02524dae-3592-47e2-98b0-77501aa15b64"
   },
   "outputs": [
    {
     "name": "stdout",
     "output_type": "stream",
     "text": [
      "SORTING AND PRINTING THE LIST :  ['RED', 'ORANGE', 'BLUE', 'WHITE', 'BLACK', 'GREY', 'SKYBLUE']\n"
     ]
    }
   ],
   "source": [
    "\n",
    "colors.sort\n",
    "print('SORTING AND PRINTING THE LIST : ',colors)\n"
   ]
  },
  {
   "cell_type": "markdown",
   "metadata": {
    "id": "MdN5B9F9jNS-"
   },
   "source": [
    "### Create a string, sent = ‘Coronavirus Caused Lockdowns Around The World.”"
   ]
  },
  {
   "cell_type": "code",
   "execution_count": 20,
   "metadata": {
    "id": "j4JUR085jNS-"
   },
   "outputs": [],
   "source": [
    "sent = 'Coronavirus Caused Lockdowns Around The World.'"
   ]
  },
  {
   "cell_type": "markdown",
   "metadata": {
    "id": "rcn18drOjNS-"
   },
   "source": [
    "Use split function to convert the string into a list of words and save it in variable words and print the same"
   ]
  },
  {
   "cell_type": "code",
   "execution_count": 21,
   "metadata": {
    "id": "fjiKSboajNS-",
    "outputId": "b6bfb22e-147a-4d90-9428-d321d9824589"
   },
   "outputs": [
    {
     "name": "stdout",
     "output_type": "stream",
     "text": [
      "SPLIT FUNCTION USED :  ['Coronavirus', 'Caused', 'Lockdowns', 'Around', 'The', 'World.']\n"
     ]
    }
   ],
   "source": [
    "sent = 'Coronavirus Caused Lockdowns Around The World.'\n",
    "a= sent.split()\n",
    "print('SPLIT FUNCTION USED : ',a)\n"
   ]
  },
  {
   "cell_type": "markdown",
   "metadata": {
    "id": "rowxhN26jNS_"
   },
   "source": [
    "Convert each word in the list to lower case and store it in variable words_lower. \n",
    "Print words_lower"
   ]
  },
  {
   "cell_type": "code",
   "execution_count": 22,
   "metadata": {
    "id": "LuzAECOVjNS_",
    "outputId": "d2c5bbbe-af46-4659-fdcb-d5de59d24099"
   },
   "outputs": [
    {
     "name": "stdout",
     "output_type": "stream",
     "text": [
      "LOWER CASE :  coronavirus caused lockdowns around the world.\n"
     ]
    }
   ],
   "source": [
    "words_lower= sent.lower()\n",
    "print('LOWER CASE : ',words_lower)\n"
   ]
  },
  {
   "cell_type": "markdown",
   "metadata": {
    "id": "zznwP-l9jNS_"
   },
   "source": [
    "Check whether ‘country’ is in the list"
   ]
  },
  {
   "cell_type": "code",
   "execution_count": 23,
   "metadata": {
    "id": "y-U1felnjNS_",
    "outputId": "1e5fb9dd-4add-4438-97da-60db75ce0fce"
   },
   "outputs": [
    {
     "name": "stdout",
     "output_type": "stream",
     "text": [
      "The word 'country' is NOT in the list.\n"
     ]
    }
   ],
   "source": [
    "\n",
    "found = False  # Flag variable\n",
    "\n",
    "for item in a:\n",
    "    if item == \"country\":\n",
    "        found = True\n",
    "        break  # Stop searching once found\n",
    "\n",
    "if found:\n",
    "    print(\"The word 'country' is in the list.\")\n",
    "else:\n",
    "    print(\"The word 'country' is NOT in the list.\")\n"
   ]
  },
  {
   "cell_type": "markdown",
   "metadata": {
    "id": "AZMvSVKWjNS_"
   },
   "source": [
    "Remove the element ‘the’ from the list and print the list."
   ]
  },
  {
   "cell_type": "code",
   "execution_count": 24,
   "metadata": {
    "id": "bmDbpYd7jNS_",
    "outputId": "e96ddeed-af03-4d0c-a7dd-6c7a716e349a"
   },
   "outputs": [
    {
     "name": "stdout",
     "output_type": "stream",
     "text": [
      "['Coronavirus', 'Caused', 'Lockdowns', 'Around', 'World.']\n"
     ]
    }
   ],
   "source": [
    "sent = 'Coronavirus Caused Lockdowns Around The World.'\n",
    "a= sent.split()\n",
    "a.remove(\"The\")\n",
    "print(a)\n",
    "\n"
   ]
  },
  {
   "cell_type": "markdown",
   "metadata": {
    "id": "int3gJc0jNS_"
   },
   "source": [
    "Select the first 4 words from the list words_lower using slicing and store them in a new variable x4"
   ]
  },
  {
   "cell_type": "code",
   "execution_count": 25,
   "metadata": {
    "id": "fXOJmYI1jNTA"
   },
   "outputs": [
    {
     "name": "stdout",
     "output_type": "stream",
     "text": [
      "['Coronavirus', 'Caused', 'Lockdowns', 'Around']\n"
     ]
    }
   ],
   "source": [
    "x4= a[:4]\n",
    "print(x4)"
   ]
  },
  {
   "cell_type": "code",
   "execution_count": 26,
   "metadata": {
    "id": "2Kb_1V9HjNTA",
    "outputId": "49b4815f-910d-45d2-da69-6be48927e099"
   },
   "outputs": [
    {
     "name": "stdout",
     "output_type": "stream",
     "text": [
      "printing x4 :  ['Coronavirus', 'Caused', 'Lockdowns', 'Around']\n"
     ]
    }
   ],
   "source": [
    "# print x4\n",
    "\n",
    "print(\"printing x4 : \",x4)"
   ]
  },
  {
   "cell_type": "markdown",
   "metadata": {
    "id": "3HgP3nUmjNTA"
   },
   "source": [
    "Convert the list of elements to single string using join function and print it"
   ]
  },
  {
   "cell_type": "code",
   "execution_count": 27,
   "metadata": {
    "id": "hiXO7ekhjNTA",
    "outputId": "db0f6673-174f-4bee-f6c5-c7e7d4f4612b"
   },
   "outputs": [
    {
     "name": "stdout",
     "output_type": "stream",
     "text": [
      "USED JOIN FUNCTION :  Coronavirus Caused Lockdowns Around World.\n"
     ]
    }
   ],
   "source": [
    "\n",
    "z = \" \".join(a)\n",
    "print(\"USED JOIN FUNCTION : \",z)\n"
   ]
  },
  {
   "cell_type": "markdown",
   "metadata": {
    "id": "tW6We_kvjNTA"
   },
   "source": [
    "## Sets"
   ]
  },
  {
   "cell_type": "markdown",
   "metadata": {
    "id": "02qkte5xjNTA"
   },
   "source": [
    "### Create stud_grades = ['A','A','B','C','C','F']"
   ]
  },
  {
   "cell_type": "code",
   "execution_count": 28,
   "metadata": {
    "id": "M5P_qZaTjNTB"
   },
   "outputs": [],
   "source": [
    "stud_grades=['A','A','B','C','C','F']"
   ]
  },
  {
   "cell_type": "markdown",
   "metadata": {
    "id": "XazCnMcBjNTB"
   },
   "source": [
    "Print the len of stud_grades"
   ]
  },
  {
   "cell_type": "code",
   "execution_count": 29,
   "metadata": {
    "id": "gMMJN-V5jNTB",
    "outputId": "ae1dee90-d009-4230-b7ae-8ea1ee32cbfa"
   },
   "outputs": [
    {
     "name": "stdout",
     "output_type": "stream",
     "text": [
      "LENGTH OF STD_GRADES :  6\n"
     ]
    }
   ],
   "source": [
    "print('LENGTH OF STD_GRADES : ',len(stud_grades))\n",
    "\n"
   ]
  },
  {
   "cell_type": "markdown",
   "metadata": {
    "id": "ALm7hstGjNTB"
   },
   "source": [
    "Create a new variable, stud_grades_set = set(stud_grades)"
   ]
  },
  {
   "cell_type": "code",
   "execution_count": 30,
   "metadata": {},
   "outputs": [],
   "source": [
    "stud_grades_set = set(stud_grades)"
   ]
  },
  {
   "cell_type": "markdown",
   "metadata": {
    "id": "JJESkQiJjNTB"
   },
   "source": [
    "Print stud_grades_set. "
   ]
  },
  {
   "cell_type": "code",
   "execution_count": 31,
   "metadata": {
    "id": "Q-daiiLPjNTB",
    "outputId": "9b37d1b8-7765-4564-f706-a4f9482b7368"
   },
   "outputs": [
    {
     "name": "stdout",
     "output_type": "stream",
     "text": [
      "THIS IS STD GRADES SET :  {'B', 'A', 'F', 'C'}\n"
     ]
    }
   ],
   "source": [
    "print(\"THIS IS STD GRADES SET : \",stud_grades_set)\n",
    "\n"
   ]
  },
  {
   "cell_type": "markdown",
   "metadata": {
    "id": "hNeCPwPOjNTC"
   },
   "source": [
    "print the type of stud_grades and stud_grades_set and print their corresponding elements. Try to understand the difference between them."
   ]
  },
  {
   "cell_type": "code",
   "execution_count": 32,
   "metadata": {
    "id": "g7cntC0ojNTC",
    "outputId": "881a71e0-fd7e-4a3e-c340-95b6e736255a"
   },
   "outputs": [
    {
     "name": "stdout",
     "output_type": "stream",
     "text": [
      "TYPE OF STD_GRASDES IS :  <class 'list'>\n",
      "TYPE OF STD_GRADES_SET :  <class 'set'>\n"
     ]
    }
   ],
   "source": [
    "print('TYPE OF STD_GRASDES IS : ',type(stud_grades) )\n",
    "print('TYPE OF STD_GRADES_SET : ',type(stud_grades_set))\n",
    "\n",
    "\n"
   ]
  },
  {
   "cell_type": "markdown",
   "metadata": {
    "id": "WjzzJX8yjNTC"
   },
   "source": [
    "Add a new element ‘G’ to stud_grades_set"
   ]
  },
  {
   "cell_type": "code",
   "execution_count": 33,
   "metadata": {
    "id": "y80DVAlRjNTC"
   },
   "outputs": [],
   "source": [
    "stud_grades_set.add('G')\n",
    "\n",
    "\n"
   ]
  },
  {
   "cell_type": "markdown",
   "metadata": {
    "id": "4TO9zhSJjNTC"
   },
   "source": [
    "Add element 'F' to stud_grades_set. and print it."
   ]
  },
  {
   "cell_type": "code",
   "execution_count": 34,
   "metadata": {
    "id": "Bh4tc1zCjNTC",
    "outputId": "67cdce79-7542-4536-8824-7c3f08855f76"
   },
   "outputs": [
    {
     "name": "stdout",
     "output_type": "stream",
     "text": [
      "AFTER ADDING G AND F :  {'C', 'G', 'F', 'A', 'B'}\n"
     ]
    }
   ],
   "source": [
    "stud_grades_set.add('F')\n",
    "print('AFTER ADDING G AND F : ',stud_grades_set)\n",
    "\n",
    "\n",
    "\n"
   ]
  },
  {
   "cell_type": "markdown",
   "metadata": {
    "id": "FSgM3DD5jNTD"
   },
   "source": [
    "!!Did you notice? set doesn't add an element if it's already present in it, unlike lists."
   ]
  },
  {
   "cell_type": "markdown",
   "metadata": {
    "id": "tqz1GBM5jNTD"
   },
   "source": [
    "Remove ‘F’ from stud_grades_set"
   ]
  },
  {
   "cell_type": "code",
   "execution_count": 35,
   "metadata": {
    "id": "zOLBDdk0jNTD"
   },
   "outputs": [],
   "source": [
    "stud_grades_set.remove('G')\n",
    "\n",
    "\n",
    "\n",
    "\n"
   ]
  },
  {
   "cell_type": "markdown",
   "metadata": {
    "id": "wxMXywoRjNTD"
   },
   "source": [
    "Print the elements and the length of stud_grades_set"
   ]
  },
  {
   "cell_type": "code",
   "execution_count": 36,
   "metadata": {
    "id": "lS582g27jNTD",
    "outputId": "03e846de-16c3-4f74-caf5-b11bb2519b91"
   },
   "outputs": [
    {
     "name": "stdout",
     "output_type": "stream",
     "text": [
      "ELEMENTS  {'C', 'F', 'A', 'B'}\n",
      "LENGTH OF STD _GRADES_SET :  4\n"
     ]
    }
   ],
   "source": [
    "print(\"ELEMENTS \",stud_grades_set)\n",
    "\n",
    "print('LENGTH OF STD _GRADES_SET : ',len(stud_grades_set))\n",
    "\n"
   ]
  },
  {
   "cell_type": "markdown",
   "metadata": {
    "id": "FctCYkNBjNTD"
   },
   "source": [
    "### Create colors = [‘red’,’blue’,’orange’], and fruits = [‘orange’,’grapes’,’apples’] "
   ]
  },
  {
   "cell_type": "code",
   "execution_count": 37,
   "metadata": {},
   "outputs": [],
   "source": [
    "colors=['RED','BLUE','ORANGE']\n",
    "fruits=['orange ','grapes','apple']"
   ]
  },
  {
   "cell_type": "markdown",
   "metadata": {
    "id": "kfIRtvphjNTE"
   },
   "source": [
    "Print color and fruits"
   ]
  },
  {
   "cell_type": "code",
   "execution_count": 38,
   "metadata": {
    "id": "q-gavK0-jNTE",
    "outputId": "6e0c3843-3efe-4e88-8a19-616e2cf4bdb3"
   },
   "outputs": [
    {
     "name": "stdout",
     "output_type": "stream",
     "text": [
      "COLORS :  ['RED', 'BLUE', 'ORANGE']\n",
      "FRUITS :  ['orange ', 'grapes', 'apple']\n"
     ]
    }
   ],
   "source": [
    "print(\"COLORS : \",colors)\n",
    "print(\"FRUITS : \",fruits)\n"
   ]
  },
  {
   "cell_type": "markdown",
   "metadata": {
    "id": "uMOTrWwSjNTE"
   },
   "source": [
    "Create colors_set, and fruits_set. (using set() ) and print them"
   ]
  },
  {
   "cell_type": "code",
   "execution_count": 39,
   "metadata": {},
   "outputs": [
    {
     "name": "stdout",
     "output_type": "stream",
     "text": [
      "Colors Set: {'RED', 'BLUE', 'ORANGE'}\n",
      "Fruits Set: {'grapes', 'orange ', 'apple'}\n"
     ]
    }
   ],
   "source": [
    "colors_set = set(colors)\n",
    "fruits_set = set(fruits)\n",
    "\n",
    "# Printing sets\n",
    "print(\"Colors Set:\", colors_set)\n",
    "print(\"Fruits Set:\", fruits_set)"
   ]
  },
  {
   "cell_type": "markdown",
   "metadata": {
    "id": "tW9fj0R1jNTE"
   },
   "source": [
    "Find the union of both the sets."
   ]
  },
  {
   "cell_type": "code",
   "execution_count": 40,
   "metadata": {
    "id": "oyskI_CTjNTE",
    "outputId": "4e89c025-10ef-405c-cbd4-f8c1ae2f92b4"
   },
   "outputs": [
    {
     "name": "stdout",
     "output_type": "stream",
     "text": [
      "Union of both sets: {'ORANGE', 'grapes', 'BLUE', 'orange ', 'RED', 'apple'}\n"
     ]
    }
   ],
   "source": [
    "union_set = colors_set.union(fruits_set)\n",
    "print(\"Union of both sets:\" , union_set)\n",
    "\n"
   ]
  },
  {
   "cell_type": "markdown",
   "metadata": {
    "id": "3yXYgYBLjNTF"
   },
   "source": [
    "Find the intersection of both the sets "
   ]
  },
  {
   "cell_type": "code",
   "execution_count": 41,
   "metadata": {
    "id": "3AzYqu5sjNTF",
    "outputId": "01ae145a-f15b-4a20-b9bc-9d8a25cf1679"
   },
   "outputs": [
    {
     "name": "stdout",
     "output_type": "stream",
     "text": [
      "INTERSECTION of both sets: set()\n"
     ]
    }
   ],
   "source": [
    "union_set1 = colors_set.intersection(fruits_set)\n",
    "\n",
    "print(\"INTERSECTION of both sets:\" , union_set1)"
   ]
  },
  {
   "cell_type": "markdown",
   "metadata": {
    "id": "PuhlSjH_jNTF"
   },
   "source": [
    "Find the elements which are Fruits but not colors (using set.difference() )"
   ]
  },
  {
   "cell_type": "code",
   "execution_count": 42,
   "metadata": {
    "id": "gBaxHXrfjNTF",
    "outputId": "2178193f-aae5-4e59-acc1-8bce28e28143"
   },
   "outputs": [
    {
     "name": "stdout",
     "output_type": "stream",
     "text": [
      "using srt.difference :  {'grapes', 'orange ', 'apple'}\n"
     ]
    }
   ],
   "source": [
    "fruits_not_colors = fruits_set.difference(colors_set)\n",
    "print(\"using srt.difference : \",fruits_not_colors)"
   ]
  },
  {
   "cell_type": "markdown",
   "metadata": {
    "id": "hLZeBta3jNTF"
   },
   "source": [
    "## TUPLES"
   ]
  },
  {
   "cell_type": "markdown",
   "metadata": {
    "id": "Nerhdg66jNTF"
   },
   "source": [
    "### Create temp = [17, ’Virat’, 50.0]"
   ]
  },
  {
   "cell_type": "code",
   "execution_count": 43,
   "metadata": {},
   "outputs": [],
   "source": [
    "temp = [17,'virat','50.0']"
   ]
  },
  {
   "cell_type": "markdown",
   "metadata": {
    "id": "C0IuMJFijNTG"
   },
   "source": [
    "Iterate through temp and print all the items in temp"
   ]
  },
  {
   "cell_type": "code",
   "execution_count": 44,
   "metadata": {
    "id": "CSKY_cgHjNTG",
    "outputId": "ec834f68-6713-4941-9fc3-dc0e59965222"
   },
   "outputs": [
    {
     "name": "stdout",
     "output_type": "stream",
     "text": [
      "17\n",
      "virat\n",
      "50.0\n"
     ]
    }
   ],
   "source": [
    "for x in temp:\n",
    "    print(x)\n"
   ]
  },
  {
   "cell_type": "markdown",
   "metadata": {
    "id": "gI0kBGQ1jNTG"
   },
   "source": [
    "replace first element with 11 in temp"
   ]
  },
  {
   "cell_type": "code",
   "execution_count": 45,
   "metadata": {
    "id": "p6JCtyOBjNTG"
   },
   "outputs": [
    {
     "name": "stdout",
     "output_type": "stream",
     "text": [
      "after replacement :  ['11', 'virat', '50.0']\n"
     ]
    }
   ],
   "source": [
    "temp[0]='11'\n",
    "print(\"after replacement : \",temp)"
   ]
  },
  {
   "cell_type": "markdown",
   "metadata": {
    "id": "JV3b34AdjNTG"
   },
   "source": [
    "Set temp1 = tuple(temp)"
   ]
  },
  {
   "cell_type": "code",
   "execution_count": 46,
   "metadata": {},
   "outputs": [],
   "source": [
    "temp1 = tuple(temp)"
   ]
  },
  {
   "cell_type": "markdown",
   "metadata": {
    "id": "Z9LJWgBkjNTG"
   },
   "source": [
    "Iterate through temp1 and print all the items in temp1. "
   ]
  },
  {
   "cell_type": "code",
   "execution_count": 47,
   "metadata": {
    "id": "t0v-FZsNjNTH",
    "outputId": "7f98ae38-8bae-4687-f46b-31fb12ac5c6c"
   },
   "outputs": [
    {
     "name": "stdout",
     "output_type": "stream",
     "text": [
      "11\n",
      "virat\n",
      "50.0\n"
     ]
    }
   ],
   "source": [
    "for x in temp1 :\n",
    "    print(x)\n",
    "\n"
   ]
  },
  {
   "cell_type": "markdown",
   "metadata": {
    "id": "A4FXMQDfjNTH"
   },
   "source": [
    "replace first element with 17 in temp1"
   ]
  },
  {
   "cell_type": "code",
   "execution_count": 48,
   "id": "c94a6a5a",
   "metadata": {},
   "outputs": [],
   "source": [
    "#cannot change"
   ]
  },
  {
   "cell_type": "markdown",
   "metadata": {
    "id": "IuGIObFZjNTH"
   },
   "source": [
    "<b>Oops!! You got an error. Hey Don't worry! Its because Once a tuple is created, you cannot change its values unlike list.</b>"
   ]
  },
  {
   "cell_type": "markdown",
   "metadata": {
    "id": "ExB_cM1ZjNTH"
   },
   "source": [
    "### Create city = (\"Bangalore\", 28.9949521, 72)"
   ]
  },
  {
   "cell_type": "code",
   "execution_count": 49,
   "metadata": {
    "id": "fWz52DjjjNTH"
   },
   "outputs": [],
   "source": [
    "city =('banglore',28.9949521,72)"
   ]
  },
  {
   "cell_type": "markdown",
   "metadata": {
    "id": "v4ipyqXsjNTH"
   },
   "source": [
    "Print first element of city"
   ]
  },
  {
   "cell_type": "code",
   "execution_count": 50,
   "metadata": {
    "id": "KJHMuFk1jNTI",
    "outputId": "f3915b36-1f5b-4ac1-e2bb-a53f9ce142f8"
   },
   "outputs": [
    {
     "name": "stdout",
     "output_type": "stream",
     "text": [
      "first element : banglore\n"
     ]
    }
   ],
   "source": [
    "print(\"first element :\",city[0])"
   ]
  },
  {
   "cell_type": "markdown",
   "metadata": {
    "id": "N5FoHg4ujNTI"
   },
   "source": [
    "Create city2 = (‘Chennai’, 30.01, 74)"
   ]
  },
  {
   "cell_type": "code",
   "execution_count": 51,
   "metadata": {
    "id": "fYuGqbDEjNTI"
   },
   "outputs": [],
   "source": [
    "city2=('chennai','30.01','74')"
   ]
  },
  {
   "cell_type": "markdown",
   "metadata": {
    "id": "0gz-HACUjNTI"
   },
   "source": [
    "Create cities which consist of city and city2"
   ]
  },
  {
   "cell_type": "code",
   "execution_count": 52,
   "metadata": {
    "id": "5dTN1LQPjNTI"
   },
   "outputs": [
    {
     "name": "stdout",
     "output_type": "stream",
     "text": [
      "TWO COMBINED :  ('banglore', 28.9949521, 72, 'chennai', '30.01', '74')\n"
     ]
    }
   ],
   "source": [
    "cities = city + city2\n",
    "print('TWO COMBINED : ',cities)"
   ]
  },
  {
   "cell_type": "markdown",
   "metadata": {
    "id": "He-teRi2jNTI"
   },
   "source": [
    "Print cities"
   ]
  },
  {
   "cell_type": "code",
   "execution_count": 53,
   "metadata": {
    "id": "ISySNfxGjNTI",
    "outputId": "bee231a2-a635-496f-b5b7-57795a0fd7ab"
   },
   "outputs": [
    {
     "name": "stdout",
     "output_type": "stream",
     "text": [
      "TWO COMBINED :  ('banglore', 28.9949521, 72, 'chennai', '30.01', '74')\n"
     ]
    }
   ],
   "source": [
    "cities = city + city2\n",
    "print('TWO COMBINED : ',cities)"
   ]
  },
  {
   "cell_type": "markdown",
   "metadata": {
    "id": "brFx6-rtjNTJ"
   },
   "source": [
    "Print type of first element in cities"
   ]
  },
  {
   "cell_type": "code",
   "execution_count": 54,
   "metadata": {
    "id": "CmIifGybjNTJ",
    "outputId": "085cb498-1027-4ce6-8803-904d39050a97"
   },
   "outputs": [
    {
     "name": "stdout",
     "output_type": "stream",
     "text": [
      "TYPE OF :  <class 'str'>\n"
     ]
    }
   ],
   "source": [
    "print('TYPE OF : ',type(cities[0]))"
   ]
  },
  {
   "cell_type": "markdown",
   "metadata": {
    "id": "jtk8J_yHjNTJ"
   },
   "source": [
    "print the type of cities\n"
   ]
  },
  {
   "cell_type": "code",
   "execution_count": 55,
   "metadata": {
    "id": "y9rdG29XjNTJ",
    "outputId": "2d1e34cb-5b76-44b4-e806-9287ee31fa87"
   },
   "outputs": [
    {
     "name": "stdout",
     "output_type": "stream",
     "text": [
      "TYPE OF :  <class 'tuple'>\n"
     ]
    }
   ],
   "source": [
    "print('TYPE OF : ',type(cities))"
   ]
  },
  {
   "cell_type": "markdown",
   "metadata": {
    "id": "uXHSadWqjNTJ"
   },
   "source": [
    "Hey that implies you made a nested tuples!!"
   ]
  },
  {
   "cell_type": "markdown",
   "metadata": {
    "id": "zViY-S_djNTJ"
   },
   "source": [
    "## DICTIONARY"
   ]
  },
  {
   "cell_type": "markdown",
   "metadata": {
    "id": "4NjUxRaZjNTK"
   },
   "source": [
    "### Create a dictionary d = {\"actor\":\"amir\",\"animal\":\"cat\",\"earth\":2,\"list\":[23,32,12]}"
   ]
  },
  {
   "cell_type": "code",
   "execution_count": 56,
   "metadata": {
    "id": "UCtEFPI4jNTK"
   },
   "outputs": [],
   "source": [
    "d = {\"ACTOR\":\"AMIR KHAN \",\"ANIMAL\":\"CAT\",\"EARTH\": 2 ,\"LIST\" : [23,32,12]}"
   ]
  },
  {
   "cell_type": "markdown",
   "metadata": {
    "id": "OamenDk8jNTK"
   },
   "source": [
    "Print the value of d[0]"
   ]
  },
  {
   "cell_type": "code",
   "execution_count": 57,
   "metadata": {
    "id": "gion3awcjNTK",
    "outputId": "59a88b33-f80a-4448-8c92-262c242ca689"
   },
   "outputs": [],
   "source": [
    "#print('VALUE OF d[0] : ', d[0])"
   ]
  },
  {
   "cell_type": "markdown",
   "metadata": {
    "id": "XYtrrUigjNTK"
   },
   "source": [
    "<b>Oops!! again an error. again a fun fact. Dictionary return the value for key if key is in the dictionary, else throws KeyError\n",
    "and we don't have key 0 here :( </b>"
   ]
  },
  {
   "cell_type": "markdown",
   "metadata": {
    "id": "62VXYnw1jNTK"
   },
   "source": [
    "Store the value of d[‘actor’] to a new variable actor."
   ]
  },
  {
   "cell_type": "code",
   "execution_count": 58,
   "metadata": {
    "id": "kkBfNz81jNTK"
   },
   "outputs": [
    {
     "name": "stdout",
     "output_type": "stream",
     "text": [
      "value of actor :  AMIR KHAN \n"
     ]
    }
   ],
   "source": [
    "d = {\"ACTOR\":\"AMIR KHAN \",\"ANIMAL\":\"CAT\",\"EARTH\": 2 ,\"LIST\" : [23,32,12]}\n",
    "actor = d[\"ACTOR\"]\n",
    "print('value of actor : ',actor)"
   ]
  },
  {
   "cell_type": "markdown",
   "metadata": {
    "id": "uFfuF569jNTL"
   },
   "source": [
    "Print the type of actor"
   ]
  },
  {
   "cell_type": "code",
   "execution_count": 59,
   "metadata": {
    "id": "bKbFXBxyjNTL",
    "outputId": "ec200684-a8ac-403e-9aea-ca06a015a12e"
   },
   "outputs": [
    {
     "name": "stdout",
     "output_type": "stream",
     "text": [
      "Type of actor :  <class 'str'>\n"
     ]
    }
   ],
   "source": [
    "print('Type of actor : ',type(actor))"
   ]
  },
  {
   "cell_type": "markdown",
   "metadata": {
    "id": "y549qN04jNTL"
   },
   "source": [
    "Store the value of d[‘list’] in new variable List. "
   ]
  },
  {
   "cell_type": "code",
   "execution_count": 60,
   "metadata": {
    "id": "I7GyOK8DjNTL"
   },
   "outputs": [
    {
     "name": "stdout",
     "output_type": "stream",
     "text": [
      "VALUE OF LIST :  [23, 32, 12]\n"
     ]
    }
   ],
   "source": [
    "List = d['LIST']\n",
    "print('VALUE OF LIST : ',List)"
   ]
  },
  {
   "cell_type": "markdown",
   "metadata": {
    "id": "Ul1YMiuNjNTL"
   },
   "source": [
    "Print the type of List. "
   ]
  },
  {
   "cell_type": "code",
   "execution_count": 61,
   "metadata": {
    "id": "V0VdG9y_jNTL",
    "outputId": "ca19430d-bd1d-456a-cb91-c156f73fe9b1"
   },
   "outputs": [
    {
     "name": "stdout",
     "output_type": "stream",
     "text": [
      "TYPE OF LIST :  <class 'list'>\n"
     ]
    }
   ],
   "source": [
    "print('TYPE OF LIST : ',type(List))"
   ]
  },
  {
   "cell_type": "markdown",
   "metadata": {
    "id": "A0CEMABhjNTL"
   },
   "source": [
    "Create d1 = { ‘singer’ : ‘Kr$na’ , ‘album’: ‘Still here’, ‘genre’ : ‘hip-hop’}"
   ]
  },
  {
   "cell_type": "code",
   "execution_count": 62,
   "metadata": {
    "id": "FCGCw5FEjNTL"
   },
   "outputs": [],
   "source": [
    "d1 ={'singer ': 'kr$na','album':'still here','genre':'hip-hop'}"
   ]
  },
  {
   "cell_type": "markdown",
   "metadata": {
    "id": "ybGIILrLjNTM"
   },
   "source": [
    "Merge d1 into d."
   ]
  },
  {
   "cell_type": "code",
   "execution_count": 63,
   "metadata": {
    "id": "UmDbbQJPjNTM"
   },
   "outputs": [
    {
     "name": "stdout",
     "output_type": "stream",
     "text": [
      "MERGED :  {'ACTOR': 'AMIR KHAN ', 'ANIMAL': 'CAT', 'EARTH': 2, 'LIST': [23, 32, 12], 'singer ': 'kr$na', 'album': 'still here', 'genre': 'hip-hop'}\n"
     ]
    }
   ],
   "source": [
    "d.update(d1)\n",
    "print(\"MERGED : \",d)"
   ]
  },
  {
   "cell_type": "markdown",
   "metadata": {
    "id": "jhAPX45ZjNTM"
   },
   "source": [
    "print d"
   ]
  },
  {
   "cell_type": "code",
   "execution_count": 64,
   "metadata": {
    "id": "785S26ryjNTM",
    "outputId": "82043717-4c5e-4622-8e11-f13d74dd5cc4"
   },
   "outputs": [
    {
     "name": "stdout",
     "output_type": "stream",
     "text": [
      "MERGED :  {'ACTOR': 'AMIR KHAN ', 'ANIMAL': 'CAT', 'EARTH': 2, 'LIST': [23, 32, 12], 'singer ': 'kr$na', 'album': 'still here', 'genre': 'hip-hop'}\n"
     ]
    }
   ],
   "source": [
    "d.update(d1)\n",
    "print(\"MERGED : \",d)"
   ]
  },
  {
   "cell_type": "markdown",
   "metadata": {
    "id": "9E852mY2jNTM"
   },
   "source": [
    "Print all the keys in d"
   ]
  },
  {
   "cell_type": "code",
   "execution_count": 65,
   "metadata": {
    "id": "7K843OrLjNTM",
    "outputId": "4336a57d-eabe-47a7-d910-82c5c8614754"
   },
   "outputs": [
    {
     "name": "stdout",
     "output_type": "stream",
     "text": [
      "KEYS OF THE DICTIONARY :  dict_keys(['ACTOR', 'ANIMAL', 'EARTH', 'LIST', 'singer ', 'album', 'genre'])\n"
     ]
    }
   ],
   "source": [
    "print('KEYS OF THE DICTIONARY : ',d.keys())"
   ]
  },
  {
   "cell_type": "markdown",
   "metadata": {
    "id": "fiuzxbGkjNTN"
   },
   "source": [
    "Print all the values in d"
   ]
  },
  {
   "cell_type": "code",
   "execution_count": 66,
   "metadata": {
    "id": "Pyhh6r0pjNTN",
    "outputId": "8d13b380-1e1f-418c-84e6-ac0638a056e2"
   },
   "outputs": [
    {
     "name": "stdout",
     "output_type": "stream",
     "text": [
      "VALUES OF THE DICTIONARY :  dict_values(['AMIR KHAN ', 'CAT', 2, [23, 32, 12], 'kr$na', 'still here', 'hip-hop'])\n"
     ]
    }
   ],
   "source": [
    "print('VALUES OF THE DICTIONARY : ',d.values())"
   ]
  },
  {
   "cell_type": "markdown",
   "metadata": {
    "id": "XSoe8GWmjNTN"
   },
   "source": [
    "Iterate over d, and print each key, value pair as this - (actor ----> amir)"
   ]
  },
  {
   "cell_type": "code",
   "execution_count": 67,
   "metadata": {
    "id": "O0iW9kiqjNTO",
    "outputId": "d9ab5c07-3de4-4939-dd9e-d6ff75c9aa07"
   },
   "outputs": [
    {
     "name": "stdout",
     "output_type": "stream",
     "text": [
      "actor ----> amir khan\n",
      "animal ----> cat\n",
      "earth ----> 2\n",
      "list ----> [23, 32, 12]\n",
      "singer ----> kr$na\n",
      "album ----> still here\n",
      "genre ----> hip-hop\n"
     ]
    }
   ],
   "source": [
    "for key, value in d.items():\n",
    "    print(f\"{key.strip().lower()} ----> {str(value).strip().lower()}\")"
   ]
  },
  {
   "cell_type": "markdown",
   "metadata": {
    "id": "Hhzm-EIsjNTO"
   },
   "source": [
    "count the number of occurences of charachters in string named \"sent\" using dictionary and print the same.\n"
   ]
  },
  {
   "cell_type": "code",
   "execution_count": 68,
   "metadata": {
    "id": "IvRlvUAljNTP",
    "outputId": "40f08e65-b884-4b00-aaf4-2cacd1083752"
   },
   "outputs": [
    {
     "name": "stdout",
     "output_type": "stream",
     "text": [
      "c ---> 6\n",
      "o ---> 4\n",
      "u ---> 3\n",
      "n ---> 7\n",
      "t ---> 5\n",
      "  ---> 10\n",
      "h ---> 2\n",
      "e ---> 7\n",
      "m ---> 2\n",
      "b ---> 1\n",
      "r ---> 5\n",
      "f ---> 2\n",
      "s ---> 4\n",
      "a ---> 3\n",
      "i ---> 2\n",
      "g ---> 1\n",
      "d ---> 1\n"
     ]
    }
   ],
   "source": [
    "\n",
    "\n",
    "sent = \"count the number of occurences of characters in string named sent\"\n",
    "\n",
    "char_count = {}\n",
    "\n",
    "for char in sent:\n",
    "    if char in char_count:\n",
    "        char_count[char] += 1\n",
    "    else:\n",
    "        char_count[char] = 1\n",
    "\n",
    "for k, v in char_count.items():\n",
    "    print(f\"{k} ---> {v}\")\n"
   ]
  },
  {
   "cell_type": "code",
   "execution_count": null,
   "id": "8e206d62",
   "metadata": {},
   "outputs": [],
   "source": [
    "#DONE WITH THIS NOW"
   ]
  }
 ],
 "metadata": {
  "colab": {
   "collapsed_sections": [],
   "provenance": []
  },
  "kernelspec": {
   "display_name": "Python 3",
   "language": "python",
   "name": "python3"
  },
  "language_info": {
   "codemirror_mode": {
    "name": "ipython",
    "version": 3
   },
   "file_extension": ".py",
   "mimetype": "text/x-python",
   "name": "python",
   "nbconvert_exporter": "python",
   "pygments_lexer": "ipython3",
   "version": "3.13.2"
  }
 },
 "nbformat": 4,
 "nbformat_minor": 5
}
